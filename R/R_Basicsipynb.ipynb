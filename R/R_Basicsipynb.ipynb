{
  "nbformat": 4,
  "nbformat_minor": 0,
  "metadata": {
    "colab": {
      "name": "R  Basicsipynb",
      "provenance": [],
      "collapsed_sections": []
    },
    "kernelspec": {
      "name": "ir",
      "display_name": "R"
    },
    "language_info": {
      "name": "R"
    }
  },
  "cells": [
    {
      "cell_type": "code",
      "execution_count": 1,
      "metadata": {
        "id": "W0hEo-j_qQCM"
      },
      "outputs": [],
      "source": [
        "x=\"India\""
      ]
    },
    {
      "cell_type": "code",
      "source": [
        "x"
      ],
      "metadata": {
        "colab": {
          "base_uri": "https://localhost:8080/",
          "height": 34
        },
        "id": "WiOGH-ykqc04",
        "outputId": "34427e2d-a5cc-4d94-f587-a04faff977a6"
      },
      "execution_count": 2,
      "outputs": [
        {
          "output_type": "display_data",
          "data": {
            "text/html": [
              "'India'"
            ],
            "text/markdown": "'India'",
            "text/latex": "'India'",
            "text/plain": [
              "[1] \"India\""
            ]
          },
          "metadata": {}
        }
      ]
    },
    {
      "cell_type": "code",
      "source": [
        "X <- \"Hello, World!\""
      ],
      "metadata": {
        "id": "lDA9zkA9qeD4"
      },
      "execution_count": 3,
      "outputs": []
    },
    {
      "cell_type": "code",
      "source": [
        "X"
      ],
      "metadata": {
        "colab": {
          "base_uri": "https://localhost:8080/",
          "height": 34
        },
        "id": "SLb2OiLhqfKg",
        "outputId": "536c197e-a44a-4b90-f8ac-3589b232173d"
      },
      "execution_count": 4,
      "outputs": [
        {
          "output_type": "display_data",
          "data": {
            "text/html": [
              "'Hello, World!'"
            ],
            "text/markdown": "'Hello, World!'",
            "text/latex": "'Hello, World!'",
            "text/plain": [
              "[1] \"Hello, World!\""
            ]
          },
          "metadata": {}
        }
      ]
    },
    {
      "cell_type": "code",
      "source": [
        "x=10"
      ],
      "metadata": {
        "id": "1YlDC9aRqg8x"
      },
      "execution_count": 5,
      "outputs": []
    },
    {
      "cell_type": "code",
      "source": [
        "y=20"
      ],
      "metadata": {
        "id": "c87GIESeqxe8"
      },
      "execution_count": 6,
      "outputs": []
    },
    {
      "cell_type": "code",
      "source": [
        "x+y"
      ],
      "metadata": {
        "colab": {
          "base_uri": "https://localhost:8080/",
          "height": 34
        },
        "id": "-qGTByARqyea",
        "outputId": "3ca431ab-b01f-4953-c9a1-0cb04b907e05"
      },
      "execution_count": 7,
      "outputs": [
        {
          "output_type": "display_data",
          "data": {
            "text/html": [
              "30"
            ],
            "text/markdown": "30",
            "text/latex": "30",
            "text/plain": [
              "[1] 30"
            ]
          },
          "metadata": {}
        }
      ]
    },
    {
      "cell_type": "code",
      "source": [
        "x-y"
      ],
      "metadata": {
        "colab": {
          "base_uri": "https://localhost:8080/",
          "height": 34
        },
        "id": "amQQgF1Tqzfx",
        "outputId": "438a2bcd-10a9-4315-81dc-f8a08d8fcc40"
      },
      "execution_count": 8,
      "outputs": [
        {
          "output_type": "display_data",
          "data": {
            "text/html": [
              "-10"
            ],
            "text/markdown": "-10",
            "text/latex": "-10",
            "text/plain": [
              "[1] -10"
            ]
          },
          "metadata": {}
        }
      ]
    },
    {
      "cell_type": "code",
      "source": [
        "x*y"
      ],
      "metadata": {
        "colab": {
          "base_uri": "https://localhost:8080/",
          "height": 34
        },
        "id": "mBZ4uJkhq0SB",
        "outputId": "06ca3630-49b0-4f51-cc00-b5d337a8f4fb"
      },
      "execution_count": 9,
      "outputs": [
        {
          "output_type": "display_data",
          "data": {
            "text/html": [
              "200"
            ],
            "text/markdown": "200",
            "text/latex": "200",
            "text/plain": [
              "[1] 200"
            ]
          },
          "metadata": {}
        }
      ]
    },
    {
      "cell_type": "code",
      "source": [
        "x/y"
      ],
      "metadata": {
        "colab": {
          "base_uri": "https://localhost:8080/",
          "height": 34
        },
        "id": "7mWemk0aq06B",
        "outputId": "a03d57d7-a2f4-47a0-c2fb-900950cb9efb"
      },
      "execution_count": 10,
      "outputs": [
        {
          "output_type": "display_data",
          "data": {
            "text/html": [
              "0.5"
            ],
            "text/markdown": "0.5",
            "text/latex": "0.5",
            "text/plain": [
              "[1] 0.5"
            ]
          },
          "metadata": {}
        }
      ]
    },
    {
      "cell_type": "code",
      "source": [
        "# Interest (I) of a principal amount (P) of 10000 for 4 years with an interest rate (R) of 8 %"
      ],
      "metadata": {
        "id": "P5xDR8vBq1fZ"
      },
      "execution_count": 11,
      "outputs": []
    },
    {
      "cell_type": "code",
      "source": [
        "P=10000"
      ],
      "metadata": {
        "id": "8bZXJ6RarKfG"
      },
      "execution_count": 12,
      "outputs": []
    },
    {
      "cell_type": "code",
      "source": [
        "N=4"
      ],
      "metadata": {
        "id": "UajoWecVrMwr"
      },
      "execution_count": 13,
      "outputs": []
    },
    {
      "cell_type": "code",
      "source": [
        "R=8/100"
      ],
      "metadata": {
        "id": "VxV1X13orN47"
      },
      "execution_count": 14,
      "outputs": []
    },
    {
      "cell_type": "code",
      "source": [
        "I=P*N*R"
      ],
      "metadata": {
        "id": "GiqzZXjVrQ5R"
      },
      "execution_count": 15,
      "outputs": []
    },
    {
      "cell_type": "code",
      "source": [
        "I"
      ],
      "metadata": {
        "colab": {
          "base_uri": "https://localhost:8080/",
          "height": 34
        },
        "id": "B-R1KwPjrT5s",
        "outputId": "4a906586-caaf-4267-cf49-2ca633616c00"
      },
      "execution_count": 16,
      "outputs": [
        {
          "output_type": "display_data",
          "data": {
            "text/html": [
              "3200"
            ],
            "text/markdown": "3200",
            "text/latex": "3200",
            "text/plain": [
              "[1] 3200"
            ]
          },
          "metadata": {}
        }
      ]
    },
    {
      "cell_type": "code",
      "source": [
        "x=10\n",
        "y=\"India\""
      ],
      "metadata": {
        "id": "w9qYYGAerjXG"
      },
      "execution_count": 17,
      "outputs": []
    },
    {
      "cell_type": "code",
      "source": [
        "x+y"
      ],
      "metadata": {
        "colab": {
          "base_uri": "https://localhost:8080/",
          "height": 100
        },
        "id": "B4aPIWdSrmt-",
        "outputId": "9043791f-e9e7-4f94-b1cd-32a36fcb0027"
      },
      "execution_count": 18,
      "outputs": [
        {
          "output_type": "error",
          "ename": "ERROR",
          "evalue": "ignored",
          "traceback": [
            "Error in x + y: non-numeric argument to binary operator\nTraceback:\n"
          ]
        }
      ]
    },
    {
      "cell_type": "code",
      "source": [
        "x <- TRUE "
      ],
      "metadata": {
        "id": "AeqkWdKKrVYr"
      },
      "execution_count": 19,
      "outputs": []
    },
    {
      "cell_type": "code",
      "source": [
        "class(x)"
      ],
      "metadata": {
        "colab": {
          "base_uri": "https://localhost:8080/",
          "height": 34
        },
        "id": "WTsjcLPnrgyU",
        "outputId": "2d643aa9-729d-4ad5-c5dd-2265baf41627"
      },
      "execution_count": 20,
      "outputs": [
        {
          "output_type": "display_data",
          "data": {
            "text/html": [
              "'logical'"
            ],
            "text/markdown": "'logical'",
            "text/latex": "'logical'",
            "text/plain": [
              "[1] \"logical\""
            ]
          },
          "metadata": {}
        }
      ]
    },
    {
      "cell_type": "code",
      "source": [
        "x<- 23.5"
      ],
      "metadata": {
        "id": "N7ROeitsriVk"
      },
      "execution_count": 21,
      "outputs": []
    },
    {
      "cell_type": "code",
      "source": [
        "class(x)"
      ],
      "metadata": {
        "colab": {
          "base_uri": "https://localhost:8080/",
          "height": 34
        },
        "id": "T4idjL6arrU2",
        "outputId": "8cfb1f2e-ebb5-4744-b789-8d0753e824c0"
      },
      "execution_count": 22,
      "outputs": [
        {
          "output_type": "display_data",
          "data": {
            "text/html": [
              "'numeric'"
            ],
            "text/markdown": "'numeric'",
            "text/latex": "'numeric'",
            "text/plain": [
              "[1] \"numeric\""
            ]
          },
          "metadata": {}
        }
      ]
    },
    {
      "cell_type": "code",
      "source": [
        "x<- 23\n",
        "class(x)"
      ],
      "metadata": {
        "colab": {
          "base_uri": "https://localhost:8080/",
          "height": 34
        },
        "id": "b-xkyvaarsK8",
        "outputId": "c2d314de-3547-4d3e-b58d-0447eae4b7ae"
      },
      "execution_count": 23,
      "outputs": [
        {
          "output_type": "display_data",
          "data": {
            "text/html": [
              "'numeric'"
            ],
            "text/markdown": "'numeric'",
            "text/latex": "'numeric'",
            "text/plain": [
              "[1] \"numeric\""
            ]
          },
          "metadata": {}
        }
      ]
    },
    {
      "cell_type": "code",
      "source": [
        "x<- 23+75i\n",
        "class(x)"
      ],
      "metadata": {
        "colab": {
          "base_uri": "https://localhost:8080/",
          "height": 34
        },
        "id": "1v-4yOoyrzek",
        "outputId": "b318ab00-a5d8-45c0-864c-3dba32125d19"
      },
      "execution_count": 24,
      "outputs": [
        {
          "output_type": "display_data",
          "data": {
            "text/html": [
              "'complex'"
            ],
            "text/markdown": "'complex'",
            "text/latex": "'complex'",
            "text/plain": [
              "[1] \"complex\""
            ]
          },
          "metadata": {}
        }
      ]
    },
    {
      "cell_type": "code",
      "source": [
        "x<- \"india\"\n",
        "class(x)"
      ],
      "metadata": {
        "colab": {
          "base_uri": "https://localhost:8080/",
          "height": 34
        },
        "id": "hGyAK--zr4lm",
        "outputId": "9104272b-79d5-4d32-dc4b-d0bf7f3cba14"
      },
      "execution_count": 25,
      "outputs": [
        {
          "output_type": "display_data",
          "data": {
            "text/html": [
              "'character'"
            ],
            "text/markdown": "'character'",
            "text/latex": "'character'",
            "text/plain": [
              "[1] \"character\""
            ]
          },
          "metadata": {}
        }
      ]
    },
    {
      "cell_type": "code",
      "source": [
        "x<- TRUE\n",
        "class(x)"
      ],
      "metadata": {
        "colab": {
          "base_uri": "https://localhost:8080/",
          "height": 34
        },
        "id": "vJ0itTLjr7TO",
        "outputId": "ec98ea7a-a89b-4234-8cbd-13504e7697ab"
      },
      "execution_count": 26,
      "outputs": [
        {
          "output_type": "display_data",
          "data": {
            "text/html": [
              "'logical'"
            ],
            "text/markdown": "'logical'",
            "text/latex": "'logical'",
            "text/plain": [
              "[1] \"logical\""
            ]
          },
          "metadata": {}
        }
      ]
    },
    {
      "cell_type": "code",
      "source": [
        "x<- True\n",
        "class(x)"
      ],
      "metadata": {
        "colab": {
          "base_uri": "https://localhost:8080/",
          "height": 100
        },
        "id": "XwyPgDWAr_YV",
        "outputId": "0bd32e3f-d7e8-4d53-df63-9b86d5d72b59"
      },
      "execution_count": 27,
      "outputs": [
        {
          "output_type": "error",
          "ename": "ERROR",
          "evalue": "ignored",
          "traceback": [
            "Error in eval(expr, envir, enclos): object 'True' not found\nTraceback:\n"
          ]
        }
      ]
    },
    {
      "cell_type": "code",
      "source": [
        "x = c(5,10,15)"
      ],
      "metadata": {
        "id": "TCaTqXG1sFKO"
      },
      "execution_count": 28,
      "outputs": []
    },
    {
      "cell_type": "code",
      "source": [
        "max(x)"
      ],
      "metadata": {
        "colab": {
          "base_uri": "https://localhost:8080/",
          "height": 34
        },
        "id": "B_2dWSoxsalH",
        "outputId": "855c1f54-558a-4370-93f8-8bf6e56d3f38"
      },
      "execution_count": 29,
      "outputs": [
        {
          "output_type": "display_data",
          "data": {
            "text/html": [
              "15"
            ],
            "text/markdown": "15",
            "text/latex": "15",
            "text/plain": [
              "[1] 15"
            ]
          },
          "metadata": {}
        }
      ]
    },
    {
      "cell_type": "code",
      "source": [
        "min(x)"
      ],
      "metadata": {
        "colab": {
          "base_uri": "https://localhost:8080/",
          "height": 34
        },
        "id": "6i4BJU7ism8f",
        "outputId": "d957730d-a7d4-4f52-baa7-b72c2fc320c0"
      },
      "execution_count": 30,
      "outputs": [
        {
          "output_type": "display_data",
          "data": {
            "text/html": [
              "5"
            ],
            "text/markdown": "5",
            "text/latex": "5",
            "text/plain": [
              "[1] 5"
            ]
          },
          "metadata": {}
        }
      ]
    },
    {
      "cell_type": "code",
      "source": [
        "mean(x)"
      ],
      "metadata": {
        "colab": {
          "base_uri": "https://localhost:8080/",
          "height": 34
        },
        "id": "SvXvCkLDspFG",
        "outputId": "ad574161-8389-44a7-9553-5c60bc726371"
      },
      "execution_count": 31,
      "outputs": [
        {
          "output_type": "display_data",
          "data": {
            "text/html": [
              "10"
            ],
            "text/markdown": "10",
            "text/latex": "10",
            "text/plain": [
              "[1] 10"
            ]
          },
          "metadata": {}
        }
      ]
    },
    {
      "cell_type": "code",
      "source": [
        "sqrt(x)"
      ],
      "metadata": {
        "colab": {
          "base_uri": "https://localhost:8080/",
          "height": 34
        },
        "id": "6wHKjTfjsqZW",
        "outputId": "2f7ca8f8-39ca-4dc4-a29a-d5c758070548"
      },
      "execution_count": 32,
      "outputs": [
        {
          "output_type": "display_data",
          "data": {
            "text/html": [
              "<style>\n",
              ".list-inline {list-style: none; margin:0; padding: 0}\n",
              ".list-inline>li {display: inline-block}\n",
              ".list-inline>li:not(:last-child)::after {content: \"\\00b7\"; padding: 0 .5ex}\n",
              "</style>\n",
              "<ol class=list-inline><li>2.23606797749979</li><li>3.16227766016838</li><li>3.87298334620742</li></ol>\n"
            ],
            "text/markdown": "1. 2.23606797749979\n2. 3.16227766016838\n3. 3.87298334620742\n\n\n",
            "text/latex": "\\begin{enumerate*}\n\\item 2.23606797749979\n\\item 3.16227766016838\n\\item 3.87298334620742\n\\end{enumerate*}\n",
            "text/plain": [
              "[1] 2.236068 3.162278 3.872983"
            ]
          },
          "metadata": {}
        }
      ]
    },
    {
      "cell_type": "code",
      "source": [
        "x = c(5.5,10.7,15.2)\n",
        "ceiling(x)"
      ],
      "metadata": {
        "colab": {
          "base_uri": "https://localhost:8080/",
          "height": 34
        },
        "id": "UIqR32r-stpp",
        "outputId": "3b99bcb1-b74a-4b41-d9e7-784577bd23a2"
      },
      "execution_count": 33,
      "outputs": [
        {
          "output_type": "display_data",
          "data": {
            "text/html": [
              "<style>\n",
              ".list-inline {list-style: none; margin:0; padding: 0}\n",
              ".list-inline>li {display: inline-block}\n",
              ".list-inline>li:not(:last-child)::after {content: \"\\00b7\"; padding: 0 .5ex}\n",
              "</style>\n",
              "<ol class=list-inline><li>6</li><li>11</li><li>16</li></ol>\n"
            ],
            "text/markdown": "1. 6\n2. 11\n3. 16\n\n\n",
            "text/latex": "\\begin{enumerate*}\n\\item 6\n\\item 11\n\\item 16\n\\end{enumerate*}\n",
            "text/plain": [
              "[1]  6 11 16"
            ]
          },
          "metadata": {}
        }
      ]
    },
    {
      "cell_type": "code",
      "source": [
        "floor(x)"
      ],
      "metadata": {
        "colab": {
          "base_uri": "https://localhost:8080/",
          "height": 34
        },
        "id": "EOdAWnx6sywJ",
        "outputId": "9c342c52-c6ee-4e28-a34e-1497a1f5b801"
      },
      "execution_count": 34,
      "outputs": [
        {
          "output_type": "display_data",
          "data": {
            "text/html": [
              "<style>\n",
              ".list-inline {list-style: none; margin:0; padding: 0}\n",
              ".list-inline>li {display: inline-block}\n",
              ".list-inline>li:not(:last-child)::after {content: \"\\00b7\"; padding: 0 .5ex}\n",
              "</style>\n",
              "<ol class=list-inline><li>5</li><li>10</li><li>15</li></ol>\n"
            ],
            "text/markdown": "1. 5\n2. 10\n3. 15\n\n\n",
            "text/latex": "\\begin{enumerate*}\n\\item 5\n\\item 10\n\\item 15\n\\end{enumerate*}\n",
            "text/plain": [
              "[1]  5 10 15"
            ]
          },
          "metadata": {}
        }
      ]
    },
    {
      "cell_type": "code",
      "source": [
        "x = \"Lorem ipsum dolor sit amet,\n",
        "consectetur adipiscing elit,\n",
        "sed do eiusmod tempor incididunt\n",
        "ut labore et dolore magna aliqua.\""
      ],
      "metadata": {
        "id": "TivtTnLws8tY"
      },
      "execution_count": 35,
      "outputs": []
    },
    {
      "cell_type": "code",
      "source": [
        "x"
      ],
      "metadata": {
        "colab": {
          "base_uri": "https://localhost:8080/",
          "height": 34
        },
        "id": "-sOVvhjMtBhv",
        "outputId": "16160791-6843-4f37-925f-05991b85ba02"
      },
      "execution_count": 36,
      "outputs": [
        {
          "output_type": "display_data",
          "data": {
            "text/html": [
              "'Lorem ipsum dolor sit amet,\\nconsectetur adipiscing elit,\\nsed do eiusmod tempor incididunt\\nut labore et dolore magna aliqua.'"
            ],
            "text/markdown": "'Lorem ipsum dolor sit amet,\\nconsectetur adipiscing elit,\\nsed do eiusmod tempor incididunt\\nut labore et dolore magna aliqua.'",
            "text/latex": "'Lorem ipsum dolor sit amet,\\textbackslash{}nconsectetur adipiscing elit,\\textbackslash{}nsed do eiusmod tempor incididunt\\textbackslash{}nut labore et dolore magna aliqua.'",
            "text/plain": [
              "[1] \"Lorem ipsum dolor sit amet,\\nconsectetur adipiscing elit,\\nsed do eiusmod tempor incididunt\\nut labore et dolore magna aliqua.\""
            ]
          },
          "metadata": {}
        }
      ]
    },
    {
      "cell_type": "code",
      "source": [
        "x=\"Hello World!\""
      ],
      "metadata": {
        "id": "5CoQxVPPtCVQ"
      },
      "execution_count": 37,
      "outputs": []
    },
    {
      "cell_type": "code",
      "source": [
        "nchar(x)"
      ],
      "metadata": {
        "colab": {
          "base_uri": "https://localhost:8080/",
          "height": 34
        },
        "id": "PcysyPH5tLgx",
        "outputId": "e2ccd287-1437-4053-b5d3-53dee430bd84"
      },
      "execution_count": 38,
      "outputs": [
        {
          "output_type": "display_data",
          "data": {
            "text/html": [
              "12"
            ],
            "text/markdown": "12",
            "text/latex": "12",
            "text/plain": [
              "[1] 12"
            ]
          },
          "metadata": {}
        }
      ]
    },
    {
      "cell_type": "code",
      "source": [
        "x <- \"Hello\"\n",
        "y <- \"World\"\n",
        "\n",
        "paste(x,y) "
      ],
      "metadata": {
        "colab": {
          "base_uri": "https://localhost:8080/",
          "height": 34
        },
        "id": "x9rzm8njtNoU",
        "outputId": "34c1f8b0-95aa-4d98-f414-155e759e81e6"
      },
      "execution_count": 39,
      "outputs": [
        {
          "output_type": "display_data",
          "data": {
            "text/html": [
              "'Hello World'"
            ],
            "text/markdown": "'Hello World'",
            "text/latex": "'Hello World'",
            "text/plain": [
              "[1] \"Hello World\""
            ]
          },
          "metadata": {}
        }
      ]
    },
    {
      "cell_type": "code",
      "source": [
        "x = readline();"
      ],
      "metadata": {
        "colab": {
          "base_uri": "https://localhost:8080/"
        },
        "id": "QrUk7_qRtU-v",
        "outputId": "76c85268-a539-40d9-8938-df48bc478d66"
      },
      "execution_count": 40,
      "outputs": [
        {
          "name": "stdout",
          "output_type": "stream",
          "text": [
            "\n"
          ]
        }
      ]
    },
    {
      "cell_type": "code",
      "source": [
        "print(x)"
      ],
      "metadata": {
        "colab": {
          "base_uri": "https://localhost:8080/"
        },
        "id": "F5_KX_CZtit6",
        "outputId": "b4d557a5-105f-4014-88c8-6b12829567ea"
      },
      "execution_count": 41,
      "outputs": [
        {
          "output_type": "stream",
          "name": "stdout",
          "text": [
            "[1] \"\"\n"
          ]
        }
      ]
    },
    {
      "cell_type": "code",
      "source": [
        "class(x)"
      ],
      "metadata": {
        "colab": {
          "base_uri": "https://localhost:8080/",
          "height": 34
        },
        "id": "dXSuEggVtlKq",
        "outputId": "68f94339-8a70-4ec5-da66-dbd729f5908d"
      },
      "execution_count": 42,
      "outputs": [
        {
          "output_type": "display_data",
          "data": {
            "text/html": [
              "'character'"
            ],
            "text/markdown": "'character'",
            "text/latex": "'character'",
            "text/plain": [
              "[1] \"character\""
            ]
          },
          "metadata": {}
        }
      ]
    },
    {
      "cell_type": "code",
      "source": [
        "x=as.integer(readline())"
      ],
      "metadata": {
        "colab": {
          "base_uri": "https://localhost:8080/"
        },
        "id": "u1BHiNZZtnv4",
        "outputId": "fa09c50d-e92a-44c8-a29f-3af30e8c59ec"
      },
      "execution_count": 43,
      "outputs": [
        {
          "name": "stdout",
          "output_type": "stream",
          "text": [
            "25\n"
          ]
        }
      ]
    },
    {
      "cell_type": "code",
      "source": [
        "class(x)"
      ],
      "metadata": {
        "colab": {
          "base_uri": "https://localhost:8080/",
          "height": 34
        },
        "id": "z0KLMPMAt0d5",
        "outputId": "ac2f549a-feda-4baf-ae51-349eb971d63a"
      },
      "execution_count": 44,
      "outputs": [
        {
          "output_type": "display_data",
          "data": {
            "text/html": [
              "'integer'"
            ],
            "text/markdown": "'integer'",
            "text/latex": "'integer'",
            "text/plain": [
              "[1] \"integer\""
            ]
          },
          "metadata": {}
        }
      ]
    },
    {
      "cell_type": "code",
      "source": [
        "x=as.integer(readline(prompt = \"Enter any number : \"))"
      ],
      "metadata": {
        "colab": {
          "base_uri": "https://localhost:8080/"
        },
        "id": "sts6YTtct2LJ",
        "outputId": "d3bcd758-188f-446c-b407-b2f8a6b2e782"
      },
      "execution_count": 45,
      "outputs": [
        {
          "name": "stdout",
          "output_type": "stream",
          "text": [
            "Enter any number : 23\n"
          ]
        }
      ]
    },
    {
      "cell_type": "code",
      "source": [
        "x"
      ],
      "metadata": {
        "colab": {
          "base_uri": "https://localhost:8080/",
          "height": 34
        },
        "id": "-okJECQ8t96a",
        "outputId": "36fe1f90-ebbe-4697-b0c6-00cab232ec26"
      },
      "execution_count": 46,
      "outputs": [
        {
          "output_type": "display_data",
          "data": {
            "text/html": [
              "23"
            ],
            "text/markdown": "23",
            "text/latex": "23",
            "text/plain": [
              "[1] 23"
            ]
          },
          "metadata": {}
        }
      ]
    },
    {
      "cell_type": "code",
      "source": [
        "class(x)"
      ],
      "metadata": {
        "colab": {
          "base_uri": "https://localhost:8080/",
          "height": 34
        },
        "id": "byXoA_IbuAVC",
        "outputId": "170ac3f1-9c88-4fef-efb7-c5936979e786"
      },
      "execution_count": 47,
      "outputs": [
        {
          "output_type": "display_data",
          "data": {
            "text/html": [
              "'integer'"
            ],
            "text/markdown": "'integer'",
            "text/latex": "'integer'",
            "text/plain": [
              "[1] \"integer\""
            ]
          },
          "metadata": {}
        }
      ]
    },
    {
      "cell_type": "code",
      "source": [
        "x=as.integer(readline(prompt = \"Enter any number : \"))"
      ],
      "metadata": {
        "colab": {
          "base_uri": "https://localhost:8080/"
        },
        "id": "4rzxWZc4uBRJ",
        "outputId": "90071021-e9cc-42e0-f1db-17e91719ff97"
      },
      "execution_count": 48,
      "outputs": [
        {
          "name": "stdout",
          "output_type": "stream",
          "text": [
            "Enter any number : 543\n"
          ]
        }
      ]
    },
    {
      "cell_type": "code",
      "source": [
        "if (x >10) {\n",
        "  print(\"x is greater than 10\")\n",
        "}"
      ],
      "metadata": {
        "colab": {
          "base_uri": "https://localhost:8080/"
        },
        "id": "-sMVYxVuuDQK",
        "outputId": "734d9b3e-f701-487a-c99f-7fae61c59937"
      },
      "execution_count": 49,
      "outputs": [
        {
          "output_type": "stream",
          "name": "stdout",
          "text": [
            "[1] \"x is greater than 10\"\n"
          ]
        }
      ]
    },
    {
      "cell_type": "code",
      "source": [
        "x=as.integer(readline(prompt = \"Enter any number : \"))\n",
        "if (x >10) {\n",
        "  print(\"x is greater than 10\")\n",
        "}"
      ],
      "metadata": {
        "colab": {
          "base_uri": "https://localhost:8080/"
        },
        "id": "WVe2WQP4uMe7",
        "outputId": "1050e1e8-a68b-40f1-b5ab-b8a559fc7f29"
      },
      "execution_count": 50,
      "outputs": [
        {
          "output_type": "stream",
          "name": "stdout",
          "text": [
            "Enter any number : 44\n",
            "[1] \"x is greater than 10\"\n"
          ]
        }
      ]
    },
    {
      "cell_type": "code",
      "source": [
        "x=as.integer(readline(prompt = \"Enter any number : \"))\n",
        "if (x >10) {\n",
        "  print(\"x is greater than 10\")\n",
        "}\n",
        "if (x <10) {\n",
        "  print(\"x is less than 10\")\n",
        "}\n",
        "if (x == 10) {\n",
        "  print(\"x is = 10\")\n",
        "}"
      ],
      "metadata": {
        "colab": {
          "base_uri": "https://localhost:8080/"
        },
        "id": "tvIjK6ucuSy6",
        "outputId": "2fa53067-be64-45a3-cb53-e5c345225d6d"
      },
      "execution_count": 51,
      "outputs": [
        {
          "output_type": "stream",
          "name": "stdout",
          "text": [
            "Enter any number : 3\n",
            "[1] \"x is less than 10\"\n"
          ]
        }
      ]
    },
    {
      "cell_type": "code",
      "source": [
        "i = 0\n",
        "while (i < 10) {\n",
        "  print(i)\n",
        "  i = i + 1\n",
        "} "
      ],
      "metadata": {
        "colab": {
          "base_uri": "https://localhost:8080/"
        },
        "id": "CvCQUdfTuzET",
        "outputId": "79c998d2-aca0-4a34-d6a5-5b499086c457"
      },
      "execution_count": 52,
      "outputs": [
        {
          "output_type": "stream",
          "name": "stdout",
          "text": [
            "[1] 0\n",
            "[1] 1\n",
            "[1] 2\n",
            "[1] 3\n",
            "[1] 4\n",
            "[1] 5\n",
            "[1] 6\n",
            "[1] 7\n",
            "[1] 8\n",
            "[1] 9\n"
          ]
        }
      ]
    },
    {
      "cell_type": "code",
      "source": [
        "i = 0\n",
        "while (i < 10) {\n",
        "  print(\"Hello\")\n",
        "  i = i + 1\n",
        "} "
      ],
      "metadata": {
        "colab": {
          "base_uri": "https://localhost:8080/"
        },
        "id": "3hF9Hd-nuVVZ",
        "outputId": "ef28e7b0-43f8-4129-d5de-dd62526570cf"
      },
      "execution_count": 53,
      "outputs": [
        {
          "output_type": "stream",
          "name": "stdout",
          "text": [
            "[1] \"Hello\"\n",
            "[1] \"Hello\"\n",
            "[1] \"Hello\"\n",
            "[1] \"Hello\"\n",
            "[1] \"Hello\"\n",
            "[1] \"Hello\"\n",
            "[1] \"Hello\"\n",
            "[1] \"Hello\"\n",
            "[1] \"Hello\"\n",
            "[1] \"Hello\"\n"
          ]
        }
      ]
    },
    {
      "cell_type": "code",
      "source": [
        "for (x in 1:10) {\n",
        "  print(x)\n",
        "} "
      ],
      "metadata": {
        "colab": {
          "base_uri": "https://localhost:8080/"
        },
        "id": "7yuh9jcGu747",
        "outputId": "581a1813-d92b-425f-c716-7e9ad0b59518"
      },
      "execution_count": 54,
      "outputs": [
        {
          "output_type": "stream",
          "name": "stdout",
          "text": [
            "[1] 1\n",
            "[1] 2\n",
            "[1] 3\n",
            "[1] 4\n",
            "[1] 5\n",
            "[1] 6\n",
            "[1] 7\n",
            "[1] 8\n",
            "[1] 9\n",
            "[1] 10\n"
          ]
        }
      ]
    },
    {
      "cell_type": "code",
      "source": [
        "my_function = function(fname) \n",
        "{\n",
        "  paste(fname, \"Griffin\")\n",
        "}"
      ],
      "metadata": {
        "id": "hNZKHvCyvBD5"
      },
      "execution_count": 55,
      "outputs": []
    },
    {
      "cell_type": "code",
      "source": [
        "my_function(\"Peter\")"
      ],
      "metadata": {
        "colab": {
          "base_uri": "https://localhost:8080/",
          "height": 34
        },
        "id": "_ij4e_DovHbr",
        "outputId": "5633a6d3-dda1-4ff1-f004-5cde9fb60321"
      },
      "execution_count": 56,
      "outputs": [
        {
          "output_type": "display_data",
          "data": {
            "text/html": [
              "'Peter Griffin'"
            ],
            "text/markdown": "'Peter Griffin'",
            "text/latex": "'Peter Griffin'",
            "text/plain": [
              "[1] \"Peter Griffin\""
            ]
          },
          "metadata": {}
        }
      ]
    },
    {
      "cell_type": "code",
      "source": [
        "my_function(\"Lois\")"
      ],
      "metadata": {
        "colab": {
          "base_uri": "https://localhost:8080/",
          "height": 34
        },
        "id": "3djyob3PvJZD",
        "outputId": "9bb0126f-67b6-4b0c-a816-cccfb656b38a"
      },
      "execution_count": 57,
      "outputs": [
        {
          "output_type": "display_data",
          "data": {
            "text/html": [
              "'Lois Griffin'"
            ],
            "text/markdown": "'Lois Griffin'",
            "text/latex": "'Lois Griffin'",
            "text/plain": [
              "[1] \"Lois Griffin\""
            ]
          },
          "metadata": {}
        }
      ]
    },
    {
      "cell_type": "code",
      "source": [
        "my_function(\"Stewie\") "
      ],
      "metadata": {
        "colab": {
          "base_uri": "https://localhost:8080/",
          "height": 34
        },
        "id": "MRarMtu9vLzy",
        "outputId": "1002cc54-e17d-40dc-9281-b151d1a3741d"
      },
      "execution_count": 58,
      "outputs": [
        {
          "output_type": "display_data",
          "data": {
            "text/html": [
              "'Stewie Griffin'"
            ],
            "text/markdown": "'Stewie Griffin'",
            "text/latex": "'Stewie Griffin'",
            "text/plain": [
              "[1] \"Stewie Griffin\""
            ]
          },
          "metadata": {}
        }
      ]
    },
    {
      "cell_type": "code",
      "source": [
        "plot(1, 3) "
      ],
      "metadata": {
        "colab": {
          "base_uri": "https://localhost:8080/",
          "height": 437
        },
        "id": "nT2mq4WdzemF",
        "outputId": "17851d8a-069b-44bb-93c5-8f51cf8fb897"
      },
      "execution_count": 59,
      "outputs": [
        {
          "output_type": "display_data",
          "data": {
            "text/plain": [
              "plot without title"
            ],
            "image/png": "[encoded data removed]"
          },
          "metadata": {
            "image/png": {
              "width": 420,
              "height": 420
            }
          }
        }
      ]
    },
    {
      "cell_type": "code",
      "source": [
        "x=c(1,2,3,4,5)"
      ],
      "metadata": {
        "id": "_1qW4euUzgZB"
      },
      "execution_count": 60,
      "outputs": []
    },
    {
      "cell_type": "code",
      "source": [
        "y=c(1,3,5,7,9)"
      ],
      "metadata": {
        "id": "qhMkwmPvzlBq"
      },
      "execution_count": 61,
      "outputs": []
    },
    {
      "cell_type": "code",
      "source": [
        "plot(x,y)"
      ],
      "metadata": {
        "colab": {
          "base_uri": "https://localhost:8080/",
          "height": 437
        },
        "id": "0muQRIBvzpUY",
        "outputId": "93bae69d-b558-4c5a-d224-2d4618c73523"
      },
      "execution_count": 62,
      "outputs": [
        {
          "output_type": "display_data",
          "data": {
            "text/plain": [
              "plot without title"
            ],
            "image/png": "[encoded data removed]"
          },
          "metadata": {
            "image/png": {
              "width": 420,
              "height": 420
            }
          }
        }
      ]
    },
    {
      "cell_type": "code",
      "source": [
        "plot(x,y, main=\"Plot a value\", xlab=\"Days\", ylab=\"Sales\") "
      ],
      "metadata": {
        "colab": {
          "base_uri": "https://localhost:8080/",
          "height": 437
        },
        "id": "pw0hsZnOzrmK",
        "outputId": "0ea16aba-32d8-4590-eb3e-d7c13bd285c1"
      },
      "execution_count": 63,
      "outputs": [
        {
          "output_type": "display_data",
          "data": {
            "text/plain": [
              "Plot with title “Plot a value”"
            ],
            "image/png": "[encoded data removed]"
          },
          "metadata": {
            "image/png": {
              "width": 420,
              "height": 420
            }
          }
        }
      ]
    },
    {
      "cell_type": "code",
      "source": [
        "plot(x,y, main=\"Plot a value\", xlab=\"Days\", ylab=\"Sales\", col=\"red\") "
      ],
      "metadata": {
        "colab": {
          "base_uri": "https://localhost:8080/",
          "height": 437
        },
        "id": "QquO-6a4zwIa",
        "outputId": "abc7a027-5aa0-44c2-81ea-f019506d0e3a"
      },
      "execution_count": 64,
      "outputs": [
        {
          "output_type": "display_data",
          "data": {
            "text/plain": [
              "Plot with title “Plot a value”"
            ],
            "image/png": "[encoded data removed]"
          },
          "metadata": {
            "image/png": {
              "width": 420,
              "height": 420
            }
          }
        }
      ]
    },
    {
      "cell_type": "code",
      "source": [
        "plot(x,y, main=\"Plot a value\", xlab=\"Days\", ylab=\"Sales\", col=\"red\",cex=2) "
      ],
      "metadata": {
        "colab": {
          "base_uri": "https://localhost:8080/",
          "height": 437
        },
        "id": "TpHHKVNH0FCc",
        "outputId": "1b060e7e-5ca1-4df9-f8a5-6b703b572396"
      },
      "execution_count": 65,
      "outputs": [
        {
          "output_type": "display_data",
          "data": {
            "text/plain": [
              "Plot with title “Plot a value”"
            ],
            "image/png": "[encoded data removed]"
          },
          "metadata": {
            "image/png": {
              "width": 420,
              "height": 420
            }
          }
        }
      ]
    },
    {
      "cell_type": "markdown",
      "source": [
        "![r_plot_pch2.png](data:image/png;base64,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)"
      ],
      "metadata": {
        "id": "Uf8d54ok0QKI"
      }
    },
    {
      "cell_type": "code",
      "source": [
        "plot(x,y, main=\"Plot a value\", xlab=\"Days\", ylab=\"Sales\", col=\"red\",cex=2,pch=25) "
      ],
      "metadata": {
        "colab": {
          "base_uri": "https://localhost:8080/",
          "height": 437
        },
        "id": "-kNZXAb20T18",
        "outputId": "f3ec772d-cbd1-4661-9702-6e10d2e32a00"
      },
      "execution_count": 66,
      "outputs": [
        {
          "output_type": "display_data",
          "data": {
            "text/plain": [
              "Plot with title “Plot a value”"
            ],
            "image/png": "[encoded data removed]"
          },
          "metadata": {
            "image/png": {
              "width": 420,
              "height": 420
            }
          }
        }
      ]
    },
    {
      "cell_type": "code",
      "source": [
        "x <- c(10,20,30,40)\n",
        "\n",
        "pie(x) "
      ],
      "metadata": {
        "colab": {
          "base_uri": "https://localhost:8080/",
          "height": 437
        },
        "id": "08RFwJMM0hTe",
        "outputId": "698b477e-6786-4f3e-95c3-6e34e42e7c0b"
      },
      "execution_count": 67,
      "outputs": [
        {
          "output_type": "display_data",
          "data": {
            "text/plain": [
              "plot without title"
            ],
            "image/png": "[encoded data removed]"
          },
          "metadata": {
            "image/png": {
              "width": 420,
              "height": 420
            }
          }
        }
      ]
    },
    {
      "cell_type": "code",
      "source": [
        "x <- c(10,20,30,40)\n",
        "\n",
        "mylabel <- c(\"Apples\", \"Bananas\", \"Cherries\", \"Dates\")\n",
        " \n",
        "pie(x, label = mylabel, main = \"Fruits\") "
      ],
      "metadata": {
        "colab": {
          "base_uri": "https://localhost:8080/",
          "height": 437
        },
        "id": "aL_Dpv-W0j4x",
        "outputId": "4e6fba9b-7458-410e-cebf-0f897349b725"
      },
      "execution_count": 68,
      "outputs": [
        {
          "output_type": "display_data",
          "data": {
            "text/plain": [
              "Plot with title “Fruits”"
            ],
            "image/png": "[encoded data removed]"
          },
          "metadata": {
            "image/png": {
              "width": 420,
              "height": 420
            }
          }
        }
      ]
    },
    {
      "cell_type": "code",
      "source": [
        "x <- c(10,20,30,40)\n",
        "\n",
        "mylabel <- c(\"Apples\", \"Bananas\", \"Cherries\", \"Dates\")\n",
        " \n",
        "colors <- c(\"blue\", \"yellow\", \"green\", \"black\")\n",
        "\n",
        "pie(x, label = mylabel, main = \"Fruits\", col = colors) "
      ],
      "metadata": {
        "colab": {
          "base_uri": "https://localhost:8080/",
          "height": 437
        },
        "id": "dNSdnzrN0r-8",
        "outputId": "54831ca7-b4cd-4b2d-d682-b58bc7c8dfcc"
      },
      "execution_count": 69,
      "outputs": [
        {
          "output_type": "display_data",
          "data": {
            "text/plain": [
              "Plot with title “Fruits”"
            ],
            "image/png": "[encoded data removed]"
          },
          "metadata": {
            "image/png": {
              "width": 420,
              "height": 420
            }
          }
        }
      ]
    },
    {
      "cell_type": "code",
      "source": [
        "x <- c(\"A\", \"B\", \"C\", \"D\")\n",
        "\n",
        "y <- c(2, 4, 6, 8)\n",
        "\n",
        "barplot(y, names.arg = x) "
      ],
      "metadata": {
        "colab": {
          "base_uri": "https://localhost:8080/",
          "height": 437
        },
        "id": "UJ1quC-0001m",
        "outputId": "1932f967-20c1-438c-9e7c-8fa7028b7a30"
      },
      "execution_count": 70,
      "outputs": [
        {
          "output_type": "display_data",
          "data": {
            "text/plain": [
              "plot without title"
            ],
            "image/png": "[encoded data removed]"
          },
          "metadata": {
            "image/png": {
              "width": 420,
              "height": 420
            }
          }
        }
      ]
    },
    {
      "cell_type": "code",
      "source": [
        " x <- c(\"A\", \"B\", \"C\", \"D\")\n",
        "y <- c(2, 4, 6, 8)\n",
        "\n",
        "barplot(y, names.arg = x, col = \"red\") "
      ],
      "metadata": {
        "colab": {
          "base_uri": "https://localhost:8080/",
          "height": 437
        },
        "id": "X_aYd-VY0-TO",
        "outputId": "299fe15e-88d0-4e8f-f1f4-fc9ec1af1c98"
      },
      "execution_count": 71,
      "outputs": [
        {
          "output_type": "display_data",
          "data": {
            "text/plain": [
              "plot without title"
            ],
            "image/png": "[encoded data removed]"
          },
          "metadata": {
            "image/png": {
              "width": 420,
              "height": 420
            }
          }
        }
      ]
    },
    {
      "cell_type": "code",
      "source": [
        "x <- rnorm(100)"
      ],
      "metadata": {
        "id": "1kFw9dVM2Gg9"
      },
      "execution_count": 72,
      "outputs": []
    },
    {
      "cell_type": "code",
      "source": [
        "x"
      ],
      "metadata": {
        "colab": {
          "base_uri": "https://localhost:8080/",
          "height": 191
        },
        "id": "_1er74Ub2M12",
        "outputId": "1ad6ccf9-cdca-4553-9dfc-4e8c38c02d18"
      },
      "execution_count": 73,
      "outputs": [
        {
          "output_type": "display_data",
          "data": {
            "text/html": [
              "<style>\n",
              ".list-inline {list-style: none; margin:0; padding: 0}\n",
              ".list-inline>li {display: inline-block}\n",
              ".list-inline>li:not(:last-child)::after {content: \"\\00b7\"; padding: 0 .5ex}\n",
              "</style>\n",
              "<ol class=list-inline><li>0.333643593708801</li><li>-0.359263453539109</li><li>0.24924284608054</li><li>-1.92170949326534</li><li>0.289258437075929</li><li>-0.658472756704737</li><li>0.436925908035149</li><li>-0.270185394413008</li><li>-1.99451872111362</li><li>0.196222259786589</li><li>-1.7174067887495</li><li>1.83672479145746</li><li>-1.14155121810147</li><li>0.0922216856727001</li><li>-0.0201608447430555</li><li>-0.998869563614503</li><li>-0.517471232846609</li><li>-0.977790678650844</li><li>-0.395496572487145</li><li>1.98200349139982</li><li>-1.04972087832922</li><li>-1.2875142964065</li><li>-1.14492909430139</li><li>0.952930035383206</li><li>-0.85143135921399</li><li>0.769951022307692</li><li>-0.87017091099943</li><li>-0.522880245883951</li><li>1.15791151028841</li><li>0.113886189784717</li><li>0.554260420101651</li><li>0.282213536676856</li><li>0.0968430582496795</li><li>0.69493382662523</li><li>-0.917582766207218</li><li>-0.526107701940889</li><li>0.183282294937606</li><li>1.42938992283846</li><li>1.06159519357749</li><li>0.0735007785269904</li><li>-0.0348851295152554</li><li>1.03666885476161</li><li>1.08197154680714</li><li>-0.183380990995598</li><li>1.16296580576392</li><li>1.03964032579888</li><li>0.527404033354331</li><li>1.5036250439198</li><li>-0.3828392822432</li><li>-0.424778815189347</li><li>-1.1241838414716</li><li>0.67529882848313</li><li>0.83940219581811</li><li>-1.73135295099096</li><li>0.499238914960516</li><li>-1.91803673792314</li><li>1.09410986529792</li><li>0.937140665380172</li><li>1.32230394303874</li><li>0.534955702439512</li><li>0.937544340630426</li><li>0.771586916481261</li><li>-1.5585964388819</li><li>1.86854343064417</li><li>0.508427494439284</li><li>0.0571803666783485</li><li>0.882034584675759</li><li>-0.403857794781878</li><li>0.37731780179008</li><li>-0.127592777049269</li><li>0.136235126314543</li><li>-1.13845962654841</li><li>-0.527607251963245</li><li>1.54892217366476</li><li>0.0605565049825187</li><li>-0.398034118885841</li><li>-0.224651161187198</li><li>1.68271646527841</li><li>0.914902701624731</li><li>-1.172235884166</li><li>-0.422594073453119</li><li>-0.988795292212023</li><li>-1.56576860311469</li><li>-0.830867117492072</li><li>-0.620245728103418</li><li>-0.393645356196692</li><li>-0.336912563894874</li><li>-1.04185359666701</li><li>-0.648882869044387</li><li>1.21817077099627</li><li>0.301611172962778</li><li>-0.308682854114553</li><li>-1.46690914656404</li><li>-1.39799072398654</li><li>-0.297715001707705</li><li>0.171868289207071</li><li>1.69230626923304</li><li>-0.720123666232413</li><li>-0.941482677150144</li><li>0.895988577878067</li></ol>\n"
            ],
            "text/markdown": "1. 0.333643593708801\n2. -0.359263453539109\n3. 0.24924284608054\n4. -1.92170949326534\n5. 0.289258437075929\n6. -0.658472756704737\n7. 0.436925908035149\n8. -0.270185394413008\n9. -1.99451872111362\n10. 0.196222259786589\n11. -1.7174067887495\n12. 1.83672479145746\n13. -1.14155121810147\n14. 0.0922216856727001\n15. -0.0201608447430555\n16. -0.998869563614503\n17. -0.517471232846609\n18. -0.977790678650844\n19. -0.395496572487145\n20. 1.98200349139982\n21. -1.04972087832922\n22. -1.2875142964065\n23. -1.14492909430139\n24. 0.952930035383206\n25. -0.85143135921399\n26. 0.769951022307692\n27. -0.87017091099943\n28. -0.522880245883951\n29. 1.15791151028841\n30. 0.113886189784717\n31. 0.554260420101651\n32. 0.282213536676856\n33. 0.0968430582496795\n34. 0.69493382662523\n35. -0.917582766207218\n36. -0.526107701940889\n37. 0.183282294937606\n38. 1.42938992283846\n39. 1.06159519357749\n40. 0.0735007785269904\n41. -0.0348851295152554\n42. 1.03666885476161\n43. 1.08197154680714\n44. -0.183380990995598\n45. 1.16296580576392\n46. 1.03964032579888\n47. 0.527404033354331\n48. 1.5036250439198\n49. -0.3828392822432\n50. -0.424778815189347\n51. -1.1241838414716\n52. 0.67529882848313\n53. 0.83940219581811\n54. -1.73135295099096\n55. 0.499238914960516\n56. -1.91803673792314\n57. 1.09410986529792\n58. 0.937140665380172\n59. 1.32230394303874\n60. 0.534955702439512\n61. 0.937544340630426\n62. 0.771586916481261\n63. -1.5585964388819\n64. 1.86854343064417\n65. 0.508427494439284\n66. 0.0571803666783485\n67. 0.882034584675759\n68. -0.403857794781878\n69. 0.37731780179008\n70. -0.127592777049269\n71. 0.136235126314543\n72. -1.13845962654841\n73. -0.527607251963245\n74. 1.54892217366476\n75. 0.0605565049825187\n76. -0.398034118885841\n77. -0.224651161187198\n78. 1.68271646527841\n79. 0.914902701624731\n80. -1.172235884166\n81. -0.422594073453119\n82. -0.988795292212023\n83. -1.56576860311469\n84. -0.830867117492072\n85. -0.620245728103418\n86. -0.393645356196692\n87. -0.336912563894874\n88. -1.04185359666701\n89. -0.648882869044387\n90. 1.21817077099627\n91. 0.301611172962778\n92. -0.308682854114553\n93. -1.46690914656404\n94. -1.39799072398654\n95. -0.297715001707705\n96. 0.171868289207071\n97. 1.69230626923304\n98. -0.720123666232413\n99. -0.941482677150144\n100. 0.895988577878067\n\n\n",
            "text/latex": "\\begin{enumerate*}\n\\item 0.333643593708801\n\\item -0.359263453539109\n\\item 0.24924284608054\n\\item -1.92170949326534\n\\item 0.289258437075929\n\\item -0.658472756704737\n\\item 0.436925908035149\n\\item -0.270185394413008\n\\item -1.99451872111362\n\\item 0.196222259786589\n\\item -1.7174067887495\n\\item 1.83672479145746\n\\item -1.14155121810147\n\\item 0.0922216856727001\n\\item -0.0201608447430555\n\\item -0.998869563614503\n\\item -0.517471232846609\n\\item -0.977790678650844\n\\item -0.395496572487145\n\\item 1.98200349139982\n\\item -1.04972087832922\n\\item -1.2875142964065\n\\item -1.14492909430139\n\\item 0.952930035383206\n\\item -0.85143135921399\n\\item 0.769951022307692\n\\item -0.87017091099943\n\\item -0.522880245883951\n\\item 1.15791151028841\n\\item 0.113886189784717\n\\item 0.554260420101651\n\\item 0.282213536676856\n\\item 0.0968430582496795\n\\item 0.69493382662523\n\\item -0.917582766207218\n\\item -0.526107701940889\n\\item 0.183282294937606\n\\item 1.42938992283846\n\\item 1.06159519357749\n\\item 0.0735007785269904\n\\item -0.0348851295152554\n\\item 1.03666885476161\n\\item 1.08197154680714\n\\item -0.183380990995598\n\\item 1.16296580576392\n\\item 1.03964032579888\n\\item 0.527404033354331\n\\item 1.5036250439198\n\\item -0.3828392822432\n\\item -0.424778815189347\n\\item -1.1241838414716\n\\item 0.67529882848313\n\\item 0.83940219581811\n\\item -1.73135295099096\n\\item 0.499238914960516\n\\item -1.91803673792314\n\\item 1.09410986529792\n\\item 0.937140665380172\n\\item 1.32230394303874\n\\item 0.534955702439512\n\\item 0.937544340630426\n\\item 0.771586916481261\n\\item -1.5585964388819\n\\item 1.86854343064417\n\\item 0.508427494439284\n\\item 0.0571803666783485\n\\item 0.882034584675759\n\\item -0.403857794781878\n\\item 0.37731780179008\n\\item -0.127592777049269\n\\item 0.136235126314543\n\\item -1.13845962654841\n\\item -0.527607251963245\n\\item 1.54892217366476\n\\item 0.0605565049825187\n\\item -0.398034118885841\n\\item -0.224651161187198\n\\item 1.68271646527841\n\\item 0.914902701624731\n\\item -1.172235884166\n\\item -0.422594073453119\n\\item -0.988795292212023\n\\item -1.56576860311469\n\\item -0.830867117492072\n\\item -0.620245728103418\n\\item -0.393645356196692\n\\item -0.336912563894874\n\\item -1.04185359666701\n\\item -0.648882869044387\n\\item 1.21817077099627\n\\item 0.301611172962778\n\\item -0.308682854114553\n\\item -1.46690914656404\n\\item -1.39799072398654\n\\item -0.297715001707705\n\\item 0.171868289207071\n\\item 1.69230626923304\n\\item -0.720123666232413\n\\item -0.941482677150144\n\\item 0.895988577878067\n\\end{enumerate*}\n",
            "text/plain": [
              "  [1]  0.33364359 -0.35926345  0.24924285 -1.92170949  0.28925844 -0.65847276\n",
              "  [7]  0.43692591 -0.27018539 -1.99451872  0.19622226 -1.71740679  1.83672479\n",
              " [13] -1.14155122  0.09222169 -0.02016084 -0.99886956 -0.51747123 -0.97779068\n",
              " [19] -0.39549657  1.98200349 -1.04972088 -1.28751430 -1.14492909  0.95293004\n",
              " [25] -0.85143136  0.76995102 -0.87017091 -0.52288025  1.15791151  0.11388619\n",
              " [31]  0.55426042  0.28221354  0.09684306  0.69493383 -0.91758277 -0.52610770\n",
              " [37]  0.18328229  1.42938992  1.06159519  0.07350078 -0.03488513  1.03666885\n",
              " [43]  1.08197155 -0.18338099  1.16296581  1.03964033  0.52740403  1.50362504\n",
              " [49] -0.38283928 -0.42477882 -1.12418384  0.67529883  0.83940220 -1.73135295\n",
              " [55]  0.49923891 -1.91803674  1.09410987  0.93714067  1.32230394  0.53495570\n",
              " [61]  0.93754434  0.77158692 -1.55859644  1.86854343  0.50842749  0.05718037\n",
              " [67]  0.88203458 -0.40385779  0.37731780 -0.12759278  0.13623513 -1.13845963\n",
              " [73] -0.52760725  1.54892217  0.06055650 -0.39803412 -0.22465116  1.68271647\n",
              " [79]  0.91490270 -1.17223588 -0.42259407 -0.98879529 -1.56576860 -0.83086712\n",
              " [85] -0.62024573 -0.39364536 -0.33691256 -1.04185360 -0.64888287  1.21817077\n",
              " [91]  0.30161117 -0.30868285 -1.46690915 -1.39799072 -0.29771500  0.17186829\n",
              " [97]  1.69230627 -0.72012367 -0.94148268  0.89598858"
            ]
          },
          "metadata": {}
        }
      ]
    },
    {
      "cell_type": "code",
      "source": [
        "hist(x, breaks = 10)"
      ],
      "metadata": {
        "colab": {
          "base_uri": "https://localhost:8080/",
          "height": 437
        },
        "id": "6L0HQRLJ2OfO",
        "outputId": "d9335a9d-851e-466e-e1be-503eb79e8c59"
      },
      "execution_count": 74,
      "outputs": [
        {
          "output_type": "display_data",
          "data": {
            "text/plain": [
              "Plot with title “Histogram of x”"
            ],
            "image/png": "[encoded data removed]"
          },
          "metadata": {
            "image/png": {
              "width": 420,
              "height": 420
            }
          }
        }
      ]
    },
    {
      "cell_type": "code",
      "source": [
        "x <- c(1,2,3,4)\n",
        "y <- c(1,3,5,7)\n",
        "plot(x,y,type = \"S\")"
      ],
      "metadata": {
        "colab": {
          "base_uri": "https://localhost:8080/",
          "height": 437
        },
        "id": "m3kSbvtR2ikj",
        "outputId": "9b5c1d09-f602-488e-bdfa-5be0bbb5a91a"
      },
      "execution_count": 75,
      "outputs": [
        {
          "output_type": "display_data",
          "data": {
            "text/plain": [
              "plot without title"
            ],
            "image/png": "[encoded data removed]"
          },
          "metadata": {
            "image/png": {
              "width": 420,
              "height": 420
            }
          }
        }
      ]
    },
    {
      "cell_type": "code",
      "source": [
        "x=as.integer(readline(prompt = \"Enter any Salary : \"))"
      ],
      "metadata": {
        "colab": {
          "base_uri": "https://localhost:8080/"
        },
        "id": "mW420OARvMft",
        "outputId": "9bf3c1c8-c955-449e-ff2c-4a79f5f6b9d1"
      },
      "execution_count": 76,
      "outputs": [
        {
          "name": "stdout",
          "output_type": "stream",
          "text": [
            "Enter any Salary : 260000\n"
          ]
        }
      ]
    },
    {
      "cell_type": "code",
      "source": [
        "if (x >250000) {\n",
        "  print(\"You are taxable\")\n",
        "}\n",
        "if (x <= 250000) {\n",
        "  print(\"You are not taxable\")\n",
        "}"
      ],
      "metadata": {
        "colab": {
          "base_uri": "https://localhost:8080/"
        },
        "id": "2SbWtmN1x3Vb",
        "outputId": "862fff47-4f5d-434a-a801-eeeebf9bf8b2"
      },
      "execution_count": 77,
      "outputs": [
        {
          "output_type": "stream",
          "name": "stdout",
          "text": [
            "[1] \"You are taxable\"\n"
          ]
        }
      ]
    },
    {
      "cell_type": "code",
      "source": [
        "x=as.integer(readline(prompt = \"Enter any Salary : \"))\n",
        "if (x >250000) {\n",
        "  print(\"You are taxable\")\n",
        "}\n",
        "if (x <= 250000) {\n",
        "  print(\"You are not taxable\")\n",
        "}"
      ],
      "metadata": {
        "colab": {
          "base_uri": "https://localhost:8080/"
        },
        "id": "v4FAFFumyFLB",
        "outputId": "93a356fe-50f4-4768-91bf-67477bb62a52"
      },
      "execution_count": 78,
      "outputs": [
        {
          "output_type": "stream",
          "name": "stdout",
          "text": [
            "Enter any Salary : 310000\n",
            "[1] \"You are taxable\"\n"
          ]
        }
      ]
    },
    {
      "cell_type": "code",
      "source": [
        "x=as.integer(readline(prompt = \"Enter any Salary : \"))\n",
        "if (x >250000) {\n",
        "  print(\"You are taxable\")\n",
        "  print(x*10/100)\n",
        "}\n",
        "if (x <= 250000) {\n",
        "  print(\"You are not taxable\")\n",
        "}"
      ],
      "metadata": {
        "colab": {
          "base_uri": "https://localhost:8080/"
        },
        "id": "u-zy8Rl3yOsn",
        "outputId": "6535b1e3-a925-410f-cd46-4399a7956632"
      },
      "execution_count": 79,
      "outputs": [
        {
          "output_type": "stream",
          "name": "stdout",
          "text": [
            "Enter any Salary : 6000000\n",
            "[1] \"You are taxable\"\n",
            "[1] 6e+05\n"
          ]
        }
      ]
    },
    {
      "cell_type": "code",
      "source": [
        "x=as.integer(readline(prompt = \"Enter any Salary : \"))\n",
        "if (x >250000) {\n",
        "  print(\"You are taxable\")\n",
        "  print((x-250000)*10/100)\n",
        "}\n",
        "if (x <= 250000) {\n",
        "  print(\"You are not taxable\")\n",
        "}"
      ],
      "metadata": {
        "colab": {
          "base_uri": "https://localhost:8080/"
        },
        "id": "6fwAoK9qyWIh",
        "outputId": "d99bc2ad-8270-438b-f3cd-bb9b16ab3210"
      },
      "execution_count": 80,
      "outputs": [
        {
          "output_type": "stream",
          "name": "stdout",
          "text": [
            "Enter any Salary : 6000000\n",
            "[1] \"You are taxable\"\n",
            "[1] 575000\n"
          ]
        }
      ]
    },
    {
      "cell_type": "code",
      "source": [
        "x=as.integer(readline(prompt = \"Enter any Salary : \"))\n",
        "if (x <= 250000) {\n",
        "  print(\"You are not taxable\")\n",
        "}\n",
        "if (250000<x && x<500000)\n",
        " {\n",
        "  print(\"You are taxable\")\n",
        "  print((x-250000)*10/100)\n",
        "}\n",
        "if (x>500000)\n",
        " {\n",
        "  print(\"You are taxable\")\n",
        "  print(((x-500000)*20/100)+(x-500000-25000)*10/100)\n",
        "}"
      ],
      "metadata": {
        "colab": {
          "base_uri": "https://localhost:8080/"
        },
        "id": "07GlFyEXyeWf",
        "outputId": "471aab58-5521-46f7-abb9-ac4d4c616dbd"
      },
      "execution_count": 81,
      "outputs": [
        {
          "output_type": "stream",
          "name": "stdout",
          "text": [
            "Enter any Salary : 73000000\n",
            "[1] \"You are taxable\"\n",
            "[1] 21747500\n"
          ]
        }
      ]
    },
    {
      "cell_type": "code",
      "source": [
        ""
      ],
      "metadata": {
        "id": "xjWl5Y-w1w20"
      },
      "execution_count": 82,
      "outputs": []
    }
  ]
}